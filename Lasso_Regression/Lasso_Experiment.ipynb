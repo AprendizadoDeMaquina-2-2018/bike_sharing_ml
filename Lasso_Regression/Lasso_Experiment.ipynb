{
 "cells": [
  {
   "cell_type": "code",
   "execution_count": 1,
   "metadata": {},
   "outputs": [],
   "source": [
    "#import\n",
    "import pandas as pd\n",
    "import numpy as np\n",
    "import matplotlib.pyplot as plt\n",
    "import seaborn as sns\n",
    "from sklearn.linear_model import Lasso, LassoCV\n",
    "from sklearn.model_selection import train_test_split, GridSearchCV, KFold\n",
    "from sklearn.metrics import r2_score"
   ]
  },
  {
   "cell_type": "code",
   "execution_count": 2,
   "metadata": {},
   "outputs": [],
   "source": [
    "df = pd.read_csv('../cleaned_data.csv', index_col=0)\n",
    "df.head()\n",
    "target = 'cnt'"
   ]
  },
  {
   "cell_type": "code",
   "execution_count": 3,
   "metadata": {},
   "outputs": [
    {
     "name": "stdout",
     "output_type": "stream",
     "text": [
      "\n",
      "## X Head ##\n",
      "   yr  holiday  workingday  temp   atemp   hum  windspeed  season_1  season_2  \\\n",
      "0   0        0           0  0.24  0.2879  0.81        0.0         1         0   \n",
      "1   0        0           0  0.22  0.2727  0.80        0.0         1         0   \n",
      "2   0        0           0  0.22  0.2727  0.80        0.0         1         0   \n",
      "3   0        0           0  0.24  0.2879  0.75        0.0         1         0   \n",
      "4   0        0           0  0.24  0.2879  0.75        0.0         1         0   \n",
      "\n",
      "   season_3      ...       weekday_1  weekday_2  weekday_3  weekday_4  \\\n",
      "0         0      ...               0          0          0          0   \n",
      "1         0      ...               0          0          0          0   \n",
      "2         0      ...               0          0          0          0   \n",
      "3         0      ...               0          0          0          0   \n",
      "4         0      ...               0          0          0          0   \n",
      "\n",
      "   weekday_5  weekday_6  weathersit_1  weathersit_2  weathersit_3  \\\n",
      "0          0          1             1             0             0   \n",
      "1          0          1             1             0             0   \n",
      "2          0          1             1             0             0   \n",
      "3          0          1             1             0             0   \n",
      "4          0          1             1             0             0   \n",
      "\n",
      "   weathersit_4  \n",
      "0             0  \n",
      "1             0  \n",
      "2             0  \n",
      "3             0  \n",
      "4             0  \n",
      "\n",
      "[5 rows x 58 columns]\n",
      "\n",
      "## Y Head ##\n",
      "0    16\n",
      "1    40\n",
      "2    32\n",
      "3    13\n",
      "4     1\n",
      "Name: cnt, dtype: int64\n"
     ]
    }
   ],
   "source": [
    "print(\"\\n## X Head ##\")\n",
    "X = df.drop(target, axis=1)\n",
    "print(X.head())\n",
    "\n",
    "print(\"\\n## Y Head ##\")\n",
    "y = df[target]\n",
    "print(y.head())"
   ]
  },
  {
   "cell_type": "code",
   "execution_count": 4,
   "metadata": {},
   "outputs": [
    {
     "name": "stdout",
     "output_type": "stream",
     "text": [
      "17379\n",
      "12165\n",
      "5214\n",
      "5214\n"
     ]
    }
   ],
   "source": [
    "X_train,X_test,y_train,y_test = train_test_split(X,y,test_size=0.3, random_state=42)\n",
    "\n",
    "print( len(y) )\n",
    "print( len(y_train) )\n",
    "print( len(X_test) )\n",
    "print( len(y_test) )\n"
   ]
  },
  {
   "cell_type": "code",
   "execution_count": 5,
   "metadata": {},
   "outputs": [],
   "source": [
    "alphas = np.linspace(0.01, 1, num=20)\n",
    "tuned_parameters = [{'alpha': alphas}]\n",
    "n_folds = 5\n"
   ]
  },
  {
   "cell_type": "code",
   "execution_count": 6,
   "metadata": {},
   "outputs": [
    {
     "data": {
      "text/plain": [
       "GridSearchCV(cv=5, error_score='raise-deprecating',\n",
       "       estimator=Lasso(alpha=1.0, copy_X=True, fit_intercept=True, max_iter=1000,\n",
       "   normalize=False, positive=False, precompute=False, random_state=42,\n",
       "   selection='cyclic', tol=0.0001, warm_start=False),\n",
       "       fit_params=None, iid='warn', n_jobs=None,\n",
       "       param_grid=[{'alpha': array([0.01   , 0.06211, 0.11421, 0.16632, 0.21842, 0.27053, 0.32263,\n",
       "       0.37474, 0.42684, 0.47895, 0.53105, 0.58316, 0.63526, 0.68737,\n",
       "       0.73947, 0.79158, 0.84368, 0.89579, 0.94789, 1.     ])}],\n",
       "       pre_dispatch='2*n_jobs', refit=True, return_train_score='warn',\n",
       "       scoring=None, verbose=0)"
      ]
     },
     "execution_count": 6,
     "metadata": {},
     "output_type": "execute_result"
    }
   ],
   "source": [
    "lasso = Lasso(random_state=42)\n",
    "\n",
    "grid_search = GridSearchCV(lasso, tuned_parameters, cv=n_folds, refit=False)\n",
    "grid_search.fit(X_train, y_train)\n"
   ]
  },
  {
   "cell_type": "code",
   "execution_count": 7,
   "metadata": {},
   "outputs": [
    {
     "name": "stdout",
     "output_type": "stream",
     "text": [
      "[0.68448326 0.68440571 0.68418755 0.68380646 0.68327261 0.6826282\n",
      " 0.68193101 0.68116133 0.68028195 0.67929161 0.67820464 0.67701957\n",
      " 0.67573668 0.67436273 0.6729013  0.67137647 0.66977519 0.66810332\n",
      " 0.66635226 0.66453524]\n",
      "[0.01204022 0.01173995 0.01146245 0.01121374 0.01095579 0.01070624\n",
      " 0.01050888 0.01029373 0.01006359 0.00983469 0.00960663 0.00936955\n",
      " 0.00914446 0.00894397 0.00875083 0.00855866 0.00838827 0.00825519\n",
      " 0.00811709 0.00797714]\n"
     ]
    }
   ],
   "source": [
    "scores = grid_search.cv_results_['mean_test_score']\n",
    "print(scores)\n",
    "\n",
    "scores_std = grid_search.cv_results_['std_test_score']\n",
    "print(scores_std)"
   ]
  },
  {
   "cell_type": "code",
   "execution_count": 8,
   "metadata": {},
   "outputs": [],
   "source": [
    "from sklearn.metrics import mean_squared_error\n"
   ]
  },
  {
   "cell_type": "code",
   "execution_count": 9,
   "metadata": {},
   "outputs": [
    {
     "data": {
      "text/plain": [
       "(0.01, 1.0)"
      ]
     },
     "execution_count": 9,
     "metadata": {},
     "output_type": "execute_result"
    },
    {
     "data": {
      "image/png": "[encoded data removed]",
      "text/plain": [
       "<Figure size 576x432 with 1 Axes>"
      ]
     },
     "metadata": {
      "needs_background": "light"
     },
     "output_type": "display_data"
    }
   ],
   "source": [
    "plt.figure().set_size_inches(8, 6)\n",
    "plt.semilogx(alphas, scores)\n",
    "\n",
    "# plot error lines showing +/- std. errors of the scores\n",
    "std_error = scores_std / np.sqrt(n_folds)\n",
    "\n",
    "plt.semilogx(alphas, scores + std_error, 'b--')\n",
    "plt.semilogx(alphas, scores - std_error, 'b--')\n",
    "\n",
    "# alpha=0.2 controls the translucency of the fill color\n",
    "plt.fill_between(alphas, scores + std_error, scores - std_error, alpha=0.2)\n",
    "\n",
    "plt.ylabel('CV score +/- std error')\n",
    "plt.xlabel('alpha')\n",
    "plt.axhline(np.max(scores), linestyle='--', color='.5')\n",
    "plt.xlim([alphas[0], alphas[-1]])"
   ]
  },
  {
   "cell_type": "code",
   "execution_count": null,
   "metadata": {},
   "outputs": [],
   "source": []
  }
 ],
 "metadata": {
  "kernelspec": {
   "display_name": "Python 3",
   "language": "python",
   "name": "python3"
  },
  "language_info": {
   "codemirror_mode": {
    "name": "ipython",
    "version": 3
   },
   "file_extension": ".py",
   "mimetype": "text/x-python",
   "name": "python",
   "nbconvert_exporter": "python",
   "pygments_lexer": "ipython3",
   "version": "3.5.6"
  }
 },
 "nbformat": 4,
 "nbformat_minor": 2
}
